{
  "cells": [
    {
      "cell_type": "markdown",
      "metadata": {
        "id": "view-in-github",
        "colab_type": "text"
      },
      "source": [
        "<a href=\"https://colab.research.google.com/github/SK-0911/Image-Editing-App/blob/main/Image_Editing_App.ipynb\" target=\"_parent\"><img src=\"https://colab.research.google.com/assets/colab-badge.svg\" alt=\"Open In Colab\"/></a>"
      ]
    },
    {
      "cell_type": "markdown",
      "metadata": {
        "id": "RmlWekomZGBG"
      },
      "source": [
        "### Installations"
      ]
    },
    {
      "cell_type": "code",
      "execution_count": null,
      "metadata": {
        "colab": {
          "base_uri": "https://localhost:8080/"
        },
        "id": "DSFhs34OqymW",
        "outputId": "c81b7e78-2eac-495d-8711-8231e2607349"
      },
      "outputs": [
        {
          "name": "stdout",
          "output_type": "stream",
          "text": [
            "Collecting streamlit==1.13.0\n",
            "  Downloading streamlit-1.13.0-py2.py3-none-any.whl (9.2 MB)\n",
            "\u001b[2K     \u001b[90m━━━━━━━━━━━━━━━━━━━━━━━━━━━━━━━━━━━━━━━━\u001b[0m \u001b[32m9.2/9.2 MB\u001b[0m \u001b[31m17.5 MB/s\u001b[0m eta \u001b[36m0:00:00\u001b[0m\n",
            "\u001b[?25hRequirement already satisfied: altair>=3.2.0 in /usr/local/lib/python3.10/dist-packages (from streamlit==1.13.0) (4.2.2)\n",
            "Requirement already satisfied: blinker>=1.0.0 in /usr/lib/python3/dist-packages (from streamlit==1.13.0) (1.4)\n",
            "Requirement already satisfied: cachetools>=4.0 in /usr/local/lib/python3.10/dist-packages (from streamlit==1.13.0) (5.3.3)\n",
            "Requirement already satisfied: click>=7.0 in /usr/local/lib/python3.10/dist-packages (from streamlit==1.13.0) (8.1.7)\n",
            "Requirement already satisfied: importlib-metadata>=1.4 in /usr/local/lib/python3.10/dist-packages (from streamlit==1.13.0) (7.0.1)\n",
            "Requirement already satisfied: numpy in /usr/local/lib/python3.10/dist-packages (from streamlit==1.13.0) (1.25.2)\n",
            "Requirement already satisfied: packaging>=14.1 in /usr/local/lib/python3.10/dist-packages (from streamlit==1.13.0) (23.2)\n",
            "Requirement already satisfied: pandas>=0.21.0 in /usr/local/lib/python3.10/dist-packages (from streamlit==1.13.0) (1.5.3)\n",
            "Requirement already satisfied: pillow>=6.2.0 in /usr/local/lib/python3.10/dist-packages (from streamlit==1.13.0) (9.4.0)\n",
            "Requirement already satisfied: protobuf!=3.20.2,<4,>=3.12 in /usr/local/lib/python3.10/dist-packages (from streamlit==1.13.0) (3.20.3)\n",
            "Requirement already satisfied: pyarrow>=4.0 in /usr/local/lib/python3.10/dist-packages (from streamlit==1.13.0) (14.0.2)\n",
            "Collecting pydeck>=0.1.dev5 (from streamlit==1.13.0)\n",
            "  Downloading pydeck-0.8.1b0-py2.py3-none-any.whl (4.8 MB)\n",
            "\u001b[2K     \u001b[90m━━━━━━━━━━━━━━━━━━━━━━━━━━━━━━━━━━━━━━━━\u001b[0m \u001b[32m4.8/4.8 MB\u001b[0m \u001b[31m35.8 MB/s\u001b[0m eta \u001b[36m0:00:00\u001b[0m\n",
            "\u001b[?25hCollecting pympler>=0.9 (from streamlit==1.13.0)\n",
            "  Downloading Pympler-1.0.1-py3-none-any.whl (164 kB)\n",
            "\u001b[2K     \u001b[90m━━━━━━━━━━━━━━━━━━━━━━━━━━━━━━━━━━━━━━━━\u001b[0m \u001b[32m164.8/164.8 kB\u001b[0m \u001b[31m14.7 MB/s\u001b[0m eta \u001b[36m0:00:00\u001b[0m\n",
            "\u001b[?25hRequirement already satisfied: python-dateutil in /usr/local/lib/python3.10/dist-packages (from streamlit==1.13.0) (2.8.2)\n",
            "Requirement already satisfied: requests>=2.4 in /usr/local/lib/python3.10/dist-packages (from streamlit==1.13.0) (2.31.0)\n",
            "Requirement already satisfied: rich>=10.11.0 in /usr/local/lib/python3.10/dist-packages (from streamlit==1.13.0) (13.7.0)\n",
            "Collecting semver (from streamlit==1.13.0)\n",
            "  Downloading semver-3.0.2-py3-none-any.whl (17 kB)\n",
            "Requirement already satisfied: toml in /usr/local/lib/python3.10/dist-packages (from streamlit==1.13.0) (0.10.2)\n",
            "Requirement already satisfied: tornado>=5.0 in /usr/local/lib/python3.10/dist-packages (from streamlit==1.13.0) (6.3.2)\n",
            "Requirement already satisfied: typing-extensions>=3.10.0.0 in /usr/local/lib/python3.10/dist-packages (from streamlit==1.13.0) (4.10.0)\n",
            "Requirement already satisfied: tzlocal>=1.1 in /usr/local/lib/python3.10/dist-packages (from streamlit==1.13.0) (5.2)\n",
            "Collecting validators>=0.2 (from streamlit==1.13.0)\n",
            "  Downloading validators-0.22.0-py3-none-any.whl (26 kB)\n",
            "Collecting gitpython!=3.1.19 (from streamlit==1.13.0)\n",
            "  Downloading GitPython-3.1.42-py3-none-any.whl (195 kB)\n",
            "\u001b[2K     \u001b[90m━━━━━━━━━━━━━━━━━━━━━━━━━━━━━━━━━━━━━━━━\u001b[0m \u001b[32m195.4/195.4 kB\u001b[0m \u001b[31m25.8 MB/s\u001b[0m eta \u001b[36m0:00:00\u001b[0m\n",
            "\u001b[?25hCollecting watchdog (from streamlit==1.13.0)\n",
            "  Downloading watchdog-4.0.0-py3-none-manylinux2014_x86_64.whl (82 kB)\n",
            "\u001b[2K     \u001b[90m━━━━━━━━━━━━━━━━━━━━━━━━━━━━━━━━━━━━━━━━\u001b[0m \u001b[32m83.0/83.0 kB\u001b[0m \u001b[31m11.9 MB/s\u001b[0m eta \u001b[36m0:00:00\u001b[0m\n",
            "\u001b[?25hRequirement already satisfied: entrypoints in /usr/local/lib/python3.10/dist-packages (from altair>=3.2.0->streamlit==1.13.0) (0.4)\n",
            "Requirement already satisfied: jinja2 in /usr/local/lib/python3.10/dist-packages (from altair>=3.2.0->streamlit==1.13.0) (3.1.3)\n",
            "Requirement already satisfied: jsonschema>=3.0 in /usr/local/lib/python3.10/dist-packages (from altair>=3.2.0->streamlit==1.13.0) (4.19.2)\n",
            "Requirement already satisfied: toolz in /usr/local/lib/python3.10/dist-packages (from altair>=3.2.0->streamlit==1.13.0) (0.12.1)\n",
            "Collecting gitdb<5,>=4.0.1 (from gitpython!=3.1.19->streamlit==1.13.0)\n",
            "  Downloading gitdb-4.0.11-py3-none-any.whl (62 kB)\n",
            "\u001b[2K     \u001b[90m━━━━━━━━━━━━━━━━━━━━━━━━━━━━━━━━━━━━━━━━\u001b[0m \u001b[32m62.7/62.7 kB\u001b[0m \u001b[31m8.3 MB/s\u001b[0m eta \u001b[36m0:00:00\u001b[0m\n",
            "\u001b[?25hRequirement already satisfied: zipp>=0.5 in /usr/local/lib/python3.10/dist-packages (from importlib-metadata>=1.4->streamlit==1.13.0) (3.17.0)\n",
            "Requirement already satisfied: pytz>=2020.1 in /usr/local/lib/python3.10/dist-packages (from pandas>=0.21.0->streamlit==1.13.0) (2023.4)\n",
            "Requirement already satisfied: six>=1.5 in /usr/local/lib/python3.10/dist-packages (from python-dateutil->streamlit==1.13.0) (1.16.0)\n",
            "Requirement already satisfied: charset-normalizer<4,>=2 in /usr/local/lib/python3.10/dist-packages (from requests>=2.4->streamlit==1.13.0) (3.3.2)\n",
            "Requirement already satisfied: idna<4,>=2.5 in /usr/local/lib/python3.10/dist-packages (from requests>=2.4->streamlit==1.13.0) (3.6)\n",
            "Requirement already satisfied: urllib3<3,>=1.21.1 in /usr/local/lib/python3.10/dist-packages (from requests>=2.4->streamlit==1.13.0) (2.0.7)\n",
            "Requirement already satisfied: certifi>=2017.4.17 in /usr/local/lib/python3.10/dist-packages (from requests>=2.4->streamlit==1.13.0) (2024.2.2)\n",
            "Requirement already satisfied: markdown-it-py>=2.2.0 in /usr/local/lib/python3.10/dist-packages (from rich>=10.11.0->streamlit==1.13.0) (3.0.0)\n",
            "Requirement already satisfied: pygments<3.0.0,>=2.13.0 in /usr/local/lib/python3.10/dist-packages (from rich>=10.11.0->streamlit==1.13.0) (2.16.1)\n",
            "Collecting smmap<6,>=3.0.1 (from gitdb<5,>=4.0.1->gitpython!=3.1.19->streamlit==1.13.0)\n",
            "  Downloading smmap-5.0.1-py3-none-any.whl (24 kB)\n",
            "Requirement already satisfied: MarkupSafe>=2.0 in /usr/local/lib/python3.10/dist-packages (from jinja2->altair>=3.2.0->streamlit==1.13.0) (2.1.5)\n",
            "Requirement already satisfied: attrs>=22.2.0 in /usr/local/lib/python3.10/dist-packages (from jsonschema>=3.0->altair>=3.2.0->streamlit==1.13.0) (23.2.0)\n",
            "Requirement already satisfied: jsonschema-specifications>=2023.03.6 in /usr/local/lib/python3.10/dist-packages (from jsonschema>=3.0->altair>=3.2.0->streamlit==1.13.0) (2023.12.1)\n",
            "Requirement already satisfied: referencing>=0.28.4 in /usr/local/lib/python3.10/dist-packages (from jsonschema>=3.0->altair>=3.2.0->streamlit==1.13.0) (0.33.0)\n",
            "Requirement already satisfied: rpds-py>=0.7.1 in /usr/local/lib/python3.10/dist-packages (from jsonschema>=3.0->altair>=3.2.0->streamlit==1.13.0) (0.18.0)\n",
            "Requirement already satisfied: mdurl~=0.1 in /usr/local/lib/python3.10/dist-packages (from markdown-it-py>=2.2.0->rich>=10.11.0->streamlit==1.13.0) (0.1.2)\n",
            "Installing collected packages: watchdog, validators, smmap, semver, pympler, pydeck, gitdb, gitpython, streamlit\n",
            "Successfully installed gitdb-4.0.11 gitpython-3.1.42 pydeck-0.8.1b0 pympler-1.0.1 semver-3.0.2 smmap-5.0.1 streamlit-1.13.0 validators-0.22.0 watchdog-4.0.0\n"
          ]
        }
      ],
      "source": [
        "!pip install streamlit==1.13.0"
      ]
    },
    {
      "cell_type": "code",
      "execution_count": null,
      "metadata": {
        "colab": {
          "base_uri": "https://localhost:8080/"
        },
        "id": "rZaLnm3esPSK",
        "outputId": "6fd9b5cc-13c7-4193-f651-60d2ff367f9f"
      },
      "outputs": [
        {
          "name": "stdout",
          "output_type": "stream",
          "text": [
            "\u001b[K\u001b[?25h\u001b[37;40mnpm\u001b[0m \u001b[0m\u001b[30;43mWARN\u001b[0m \u001b[0m\u001b[35msaveError\u001b[0m ENOENT: no such file or directory, open '/content/package.json'\n",
            "\u001b[0m\u001b[37;40mnpm\u001b[0m \u001b[0m\u001b[34;40mnotice\u001b[0m\u001b[35m\u001b[0m created a lockfile as package-lock.json. You should commit this file.\n",
            "\u001b[0m\u001b[37;40mnpm\u001b[0m \u001b[0m\u001b[30;43mWARN\u001b[0m \u001b[0m\u001b[35menoent\u001b[0m ENOENT: no such file or directory, open '/content/package.json'\n",
            "\u001b[0m\u001b[37;40mnpm\u001b[0m \u001b[0m\u001b[30;43mWARN\u001b[0m\u001b[35m\u001b[0m content No description\n",
            "\u001b[0m\u001b[37;40mnpm\u001b[0m \u001b[0m\u001b[30;43mWARN\u001b[0m\u001b[35m\u001b[0m content No repository field.\n",
            "\u001b[0m\u001b[37;40mnpm\u001b[0m \u001b[0m\u001b[30;43mWARN\u001b[0m\u001b[35m\u001b[0m content No README data\n",
            "\u001b[0m\u001b[37;40mnpm\u001b[0m \u001b[0m\u001b[30;43mWARN\u001b[0m\u001b[35m\u001b[0m content No license field.\n",
            "\u001b[0m\n",
            "+ localtunnel@2.0.2\n",
            "added 22 packages from 22 contributors and audited 22 packages in 1.086s\n",
            "\n",
            "3 packages are looking for funding\n",
            "  run `npm fund` for details\n",
            "\n",
            "found 1 \u001b[93mmoderate\u001b[0m severity vulnerability\n",
            "  run `npm audit fix` to fix them, or `npm audit` for details\n",
            "\u001b[K\u001b[?25h"
          ]
        }
      ],
      "source": [
        "!npm install localtunnel"
      ]
    },
    {
      "cell_type": "markdown",
      "metadata": {
        "id": "vAwr402l7J2U"
      },
      "source": [
        "Haar cascade files are pre-trained detectors of some parts of the body, such as faces, mouths, eyes, etc."
      ]
    },
    {
      "cell_type": "code",
      "execution_count": null,
      "metadata": {
        "colab": {
          "base_uri": "https://localhost:8080/"
        },
        "id": "9wCCjXX-qy8_",
        "outputId": "cb3f86e7-1365-48d4-8ba0-d6029e6a986e"
      },
      "outputs": [
        {
          "name": "stdout",
          "output_type": "stream",
          "text": [
            "Writing app.py\n"
          ]
        }
      ],
      "source": [
        "%%writefile app.py\n",
        "import streamlit as st  # For creating the webapp\n",
        "import cv2\n",
        "from PIL import Image, ImageEnhance\n",
        "import numpy as np\n",
        "import os\n",
        "\n",
        "face_cascade = cv2.CascadeClassifier(\"/content/haarcascade_frontalface_default.xml\")\n",
        "eye_cascade = cv2.CascadeClassifier(\"/content/haarcascade_eye.xml\")\n",
        "\n",
        "def detect_faces(face_img):\n",
        "  new_img = np.array(face_img.convert(\"RGB\"))\n",
        "  faces = face_cascade\n",
        "\n",
        "\n",
        "\n",
        "def apply_vignette(img_arr, strength=0.5):\n",
        "    rows, cols, _ = img_arr.shape\n",
        "    y, x = np.ogrid[:rows, :cols]\n",
        "    center = (rows / 2, cols / 2)\n",
        "    mask = np.exp(-((x - center[1]) ** 2 + (y - center[0]) ** 2) / (2 * (strength * center[1]) ** 2))\n",
        "\n",
        "    # Normalize the mask values to be in the range [0.0, 1.0]\n",
        "    mask = (mask - np.min(mask)) / (np.max(mask) - np.min(mask))\n",
        "\n",
        "    # Apply the vignette effect\n",
        "    vignetted_img = img_arr * mask[:, :, np.newaxis]\n",
        "\n",
        "    return np.clip(vignetted_img, 0, 255).astype(np.uint8)\n",
        "\n",
        "\n",
        "def main():\n",
        "  st.title(\"Image Editing App\")\n",
        "  st.text(\"Edit your Images in a fast and simple way\")\n",
        "\n",
        "  activities = [\"Detection\", \"About\"]\n",
        "  choice = st.sidebar.selectbox(\"Select Activity\", activities)\n",
        "\n",
        "  if choice == \"Detection\":\n",
        "    st.subheader(\"Face Detection\")\n",
        "    img_file = st.file_uploader(\"Upload Image\", type=[\"jpg\", \"png\", \"jpeg\"])\n",
        "\n",
        "    if img_file is not None:\n",
        "      img = Image.open(img_file)\n",
        "      st.text(\"Original Image\")\n",
        "      st.image(img) # Displaying the image\n",
        "\n",
        "      enhance_type = st.sidebar.radio(\"Enhance type\", [\"Original\", \"Grey-scale\",\n",
        "                                                       \"Contrast\", \"Brightness\",\n",
        "                                                       \"Blur\", \"Sharpness\",\n",
        "                                                       \"Saturation\", \"Sepia Tone\",\n",
        "                                                       \"Edge Enhancement\", \"Histogram Equalization\",\n",
        "                                                       \"Vignette Effect\", \"Hue Adjustment\"])\n",
        "\n",
        "      if enhance_type == \"Grey-scale\":\n",
        "        img_arr = np.array(img.convert('RGB'))\n",
        "        gray = cv2.cvtColor(img_arr, cv2.COLOR_BGR2GRAY)\n",
        "        st.image(gray)\n",
        "\n",
        "      elif enhance_type == \"Contrast\":\n",
        "        rate = st.sidebar.slider(\"Contrast Level\", 0.1, 5.0)\n",
        "        enhancer = ImageEnhance.Contrast(img)\n",
        "        enhanced_img = enhancer.enhance(rate)\n",
        "        st.image(enhanced_img)\n",
        "\n",
        "      elif enhance_type == \"Brightness\":\n",
        "        rate = st.sidebar.slider(\"Brightness\", 0.0, 10.0)\n",
        "        brightness = ImageEnhance.Brightness(img)\n",
        "        brighter_img = brightness.enhance(rate)\n",
        "        st.image(brighter_img)\n",
        "\n",
        "      elif enhance_type == \"Blur\":\n",
        "        rate = st.sidebar.slider(\"Blurriness\", 0.0, 10.0)\n",
        "        blur_img = cv2.GaussianBlur(np.array(img), (15,15), rate)\n",
        "        st.image(blur_img)\n",
        "\n",
        "      elif enhance_type == \"Sharpness\":\n",
        "        rate = st.sidebar.slider(\"Sharpness Level\", 0.0, 10.0)\n",
        "        sharp = ImageEnhance.Sharpness(img)\n",
        "        sharp_img = sharp.enhance(rate)\n",
        "        st.image(sharp_img)\n",
        "\n",
        "      elif enhance_type == \"Saturation\":\n",
        "        saturation_rate = st.sidebar.slider(\"Saturation Level\", 0.0, 5.0)\n",
        "        saturation = ImageEnhance.Color(img)\n",
        "        saturated_img = saturation.enhance(saturation_rate)\n",
        "        st.image(saturated_img)\n",
        "\n",
        "      elif enhance_type == \"Sepia Tone\":\n",
        "        img_arr = np.array(img.convert('RGB'))\n",
        "\n",
        "        # Define Sepia Tone matrix\n",
        "        sepia_matrix = np.array([[0.393, 0.769, 0.189],\n",
        "                                [0.349, 0.686, 0.168],\n",
        "                                [0.272, 0.534, 0.131]])\n",
        "\n",
        "        # Add a slider for Sepia Tone intensity\n",
        "        sepia_intensity = st.sidebar.slider(\"Sepia Intensity\", 0.0, 1.0, 0.5)\n",
        "\n",
        "        sepia_img = np.dot(img_arr, sepia_matrix.T)\n",
        "        sepia_img = np.clip(sepia_img * sepia_intensity, 0, 255).astype(np.uint8)\n",
        "\n",
        "        st.image(sepia_img)\n",
        "\n",
        "      elif enhance_type == \"Edge Enhancement\":\n",
        "        img_arr = np.array(img.convert('RGB'))\n",
        "        gray = cv2.cvtColor(img_arr, cv2.COLOR_BGR2GRAY)\n",
        "\n",
        "        edges = cv2.Sobel(gray, cv2.CV_64F, 1, 1, ksize=3)\n",
        "        enhanced_img = cv2.convertScaleAbs(edges)\n",
        "        st.image(enhanced_img, channels=\"GRAY\")\n",
        "\n",
        "      elif enhance_type == \"Histogram Equalization\":\n",
        "        img_arr = np.array(img.convert('RGB'))\n",
        "        gray = cv2.cvtColor(img_arr, cv2.COLOR_BGR2GRAY)\n",
        "\n",
        "        # Apply Histogram Equalization\n",
        "        equalized_img = cv2.equalizeHist(gray)\n",
        "\n",
        "        st.image(equalized_img, channels=\"GRAY\")\n",
        "\n",
        "      elif enhance_type == \"Vignette Effect\":\n",
        "        img_arr = np.array(img.convert('RGB'))\n",
        "\n",
        "        # Add a slider for Vignette effect strength\n",
        "        vignette_strength = st.sidebar.slider(\"Vignette Strength\", 0.1, 1.0, 0.5)\n",
        "\n",
        "        # Apply Vignette Effect\n",
        "        vignetted_img = apply_vignette(img_arr, strength=vignette_strength)\n",
        "\n",
        "        st.image(vignetted_img)\n",
        "\n",
        "      elif enhance_type == \"Hue Adjustment\":\n",
        "        img_arr = np.array(img.convert('RGB'))\n",
        "\n",
        "        # Add a slider for Hue Adjustment\n",
        "        hue_factor = st.sidebar.slider(\"Hue Factor\", -1.0, 1.0, 0.0)\n",
        "\n",
        "        # Apply Hue Adjustment\n",
        "        img_hsv = cv2.cvtColor(img_arr, cv2.COLOR_RGB2HSV)\n",
        "        h, s, v = cv2.split(img_hsv)\n",
        "\n",
        "        h = np.mod((h + int(hue_factor * 360)), 180).astype(np.uint8)\n",
        "\n",
        "        img_hsv = cv2.merge((h, s, v))\n",
        "        hue_adjusted_img = cv2.cvtColor(img_hsv, cv2.COLOR_HSV2RGB)\n",
        "\n",
        "        st.image(hue_adjusted_img)\n",
        "\n",
        "      elif enhance_type == \"Original\":\n",
        "        st.image(img, width=300)\n",
        "\n",
        "      else:\n",
        "        st.image(img, width=300)\n",
        "\n",
        "    tasks = [\"Faces\", \"Eyes\", \"Cartoonize\", \"Cannize\"]\n",
        "    feature_choice = st.sidebar.selectbox(\"Find features\", tasks)\n",
        "    if st.button(\"Process Image\"):\n",
        "      if feature_choice == \"Face\":\n",
        "        result_img, result_face = detect_faces(img)\n",
        "        st.image(result_img)\n",
        "\n",
        "\n",
        "\n",
        "  elif choice == \"About\":\n",
        "    st.subheader(\"About the Developer\")\n",
        "    st.markdown(\"Built with ❤️ by [Shubham Kumar](https://www.linkedin.com/in/shubham-911/)\")\n",
        "    st.text(\"My name is Shubham Kumar I am a Computer Science Student at NMIMS Navi Mumbai\")\n",
        "\n",
        "\n",
        "main()"
      ]
    },
    {
      "cell_type": "code",
      "execution_count": null,
      "metadata": {
        "id": "0hhlQB-VsPpq"
      },
      "outputs": [],
      "source": [
        "!streamlit run app.py &>/content/logs.txt &"
      ]
    },
    {
      "cell_type": "code",
      "execution_count": null,
      "metadata": {
        "colab": {
          "base_uri": "https://localhost:8080/"
        },
        "id": "D0i9IGywswtj",
        "outputId": "256927d8-c922-4420-bf8d-e9fe7eedb3e2"
      },
      "outputs": [
        {
          "name": "stdout",
          "output_type": "stream",
          "text": [
            "34.106.217.30"
          ]
        }
      ],
      "source": [
        "!curl https://loca.lt/mytunnelpassword"
      ]
    },
    {
      "cell_type": "code",
      "execution_count": null,
      "metadata": {
        "colab": {
          "background_save": true,
          "base_uri": "https://localhost:8080/"
        },
        "id": "7KeU1nj1siiK",
        "outputId": "2559e081-51c8-4d82-fa1f-18cfa2c1f905"
      },
      "outputs": [
        {
          "name": "stdout",
          "output_type": "stream",
          "text": [
            "\u001b[K\u001b[?25hnpx: installed 22 in 3.221s\n",
            "your url is: https://fresh-coins-draw.loca.lt\n"
          ]
        }
      ],
      "source": [
        "!npx localtunnel --port 8501"
      ]
    }
  ],
  "metadata": {
    "colab": {
      "provenance": [],
      "authorship_tag": "ABX9TyOB7OYnJaW8/yO+2OI22+/A",
      "include_colab_link": true
    },
    "kernelspec": {
      "display_name": "Python 3",
      "name": "python3"
    },
    "language_info": {
      "name": "python"
    }
  },
  "nbformat": 4,
  "nbformat_minor": 0
}